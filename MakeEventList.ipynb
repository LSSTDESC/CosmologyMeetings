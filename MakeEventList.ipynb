{
 "cells": [
  {
   "cell_type": "markdown",
   "metadata": {},
   "source": [
    "# Auto-generating the Cosmology Meetings Event List\n",
    "\n",
    "_Phil Marshall, August 2018_\n",
    "\n",
    "We have a Google calendar with an `ical` address: this notebook scrapes the events out of that calendar and produces a restructured text table of them."
   ]
  },
  {
   "cell_type": "markdown",
   "metadata": {},
   "source": [
    "## Requirements\n",
    "\n",
    "We'll need tooling to interpret the `ical` file - let's use [`pyICSParser`](https://pypi.org/project/pyICSParser/) by [@oberron](https://github.com/oberron/annum) - and we'll use `pandas` to manipulate the resulting table."
   ]
  },
  {
   "cell_type": "code",
   "execution_count": null,
   "metadata": {},
   "outputs": [],
   "source": [
    "# ! pip install --upgrade pyICSParser"
   ]
  },
  {
   "cell_type": "code",
   "execution_count": null,
   "metadata": {},
   "outputs": [],
   "source": [
    "# ! pip install --upgrade pandas"
   ]
  },
  {
   "cell_type": "markdown",
   "metadata": {},
   "source": [
    "## Scraping the Calendar\n",
    "\n",
    "This is a straightforward `wget` call."
   ]
  },
  {
   "cell_type": "code",
   "execution_count": null,
   "metadata": {},
   "outputs": [],
   "source": [
    "# Calendar ical address:\n",
    "url = \"https://calendar.google.com/calendar/ical/a6aumk8bjbhhb9aaa6hg60f19c%40group.calendar.google.com/public/basic.ics\""
   ]
  },
  {
   "cell_type": "code",
   "execution_count": null,
   "metadata": {},
   "outputs": [],
   "source": [
    "icsfile = \"EVENTS.ics\"\n",
    "! wget $url -O $icsfile"
   ]
  },
  {
   "cell_type": "markdown",
   "metadata": {},
   "source": [
    "## Parsing the Calendar\n",
    "\n",
    "Here's where we use `pyICSParser` to read the `ical` file, and present the information in a nice table."
   ]
  },
  {
   "cell_type": "code",
   "execution_count": null,
   "metadata": {},
   "outputs": [],
   "source": [
    "from pyICSParser import pyiCalendar as ical\n",
    "\n",
    "mycal = ical.iCalendar()\n",
    "#start and end are string objects of yyyymmdd type\n",
    "mycal.local_load(icsfile)"
   ]
  },
  {
   "cell_type": "code",
   "execution_count": null,
   "metadata": {},
   "outputs": [],
   "source": [
    "mycal.parse_loaded()"
   ]
  },
  {
   "cell_type": "code",
   "execution_count": null,
   "metadata": {},
   "outputs": [],
   "source": [
    "# help(mycal)"
   ]
  },
  {
   "cell_type": "code",
   "execution_count": null,
   "metadata": {},
   "outputs": [],
   "source": [
    "len(mycal.events)"
   ]
  },
  {
   "cell_type": "markdown",
   "metadata": {},
   "source": [
    "Here's what one of these event items looks like:"
   ]
  },
  {
   "cell_type": "code",
   "execution_count": null,
   "metadata": {},
   "outputs": [],
   "source": [
    "mycal.events[12]"
   ]
  },
  {
   "cell_type": "markdown",
   "metadata": {},
   "source": [
    "Let's load the event information into a pandas dataframe so we can work with it more easily."
   ]
  },
  {
   "cell_type": "code",
   "execution_count": null,
   "metadata": {},
   "outputs": [],
   "source": [
    "import pandas\n",
    "df = pandas.DataFrame(columns=['Meeting','Start Date','End Date','URL'])\n",
    "\n",
    "k=0\n",
    "for event in mycal.events:\n",
    "    # Pull out the URL alone, without the html tags:\n",
    "    strings = event['DESCRIPTION']['val'].split('\"')\n",
    "    if len(strings) == 3:\n",
    "        url = strings[1]\n",
    "    else:\n",
    "        url = ''\n",
    "    # Add a row to the data frame:\n",
    "    df.loc[k] = pandas.Series({'Meeting':event['SUMMARY']['val'], \n",
    "                               'Start Date':event['DTSTART']['val'].isoformat(), \n",
    "                               'End Date':event['DTEND']['val'].isoformat(),\n",
    "                               'URL':url \n",
    "                              })\n",
    "    k += 1"
   ]
  },
  {
   "cell_type": "markdown",
   "metadata": {},
   "source": [
    "We need to sort this table by start date, and only keep the events in the future."
   ]
  },
  {
   "cell_type": "code",
   "execution_count": null,
   "metadata": {},
   "outputs": [],
   "source": [
    "import datetime\n",
    "today = datetime.date.today().isoformat()\n",
    "print today"
   ]
  },
  {
   "cell_type": "code",
   "execution_count": null,
   "metadata": {},
   "outputs": [],
   "source": [
    "sorted_df = df.sort_values(by=\"Start Date\")\n",
    "final_df = sorted_df[sorted_df['Start Date'] >= today]\n",
    "final_df"
   ]
  },
  {
   "cell_type": "markdown",
   "metadata": {},
   "source": [
    "## Writing the Event List\n",
    "\n",
    "We want a simple markdown table, exported to a file, where the name of the meeting is a hyperlink, if the URL is available."
   ]
  },
  {
   "cell_type": "code",
   "execution_count": null,
   "metadata": {},
   "outputs": [],
   "source": [
    "def easy_pandas_df_to_markdown_table(df):\n",
    "    fmt = ['---' for i in range(len(df.columns))]\n",
    "    df_fmt = pandas.DataFrame([fmt], columns=df.columns)\n",
    "    df_formatted = pandas.concat([df_fmt, df])\n",
    "    df_formatted.to_csv(\"EVENTS.md\", sep=\"|\", index=False)\n",
    "    return\n",
    "\n",
    "def row_by_row_pandas_df_to_markdown_table(df):\n",
    "    f = open(\"EVENTS.md\", \"w\")\n",
    "    f.write(\"Meeting | Start Date | End Date\\n\")    \n",
    "    f.write(\"--------|------------|---------\\n\")\n",
    "    for index, row in df.iterrows():\n",
    "        if row['URL'] == '':\n",
    "            f.write(row['Meeting']+\" | \"+row['Start Date']+\" | \"+row['End Date']+\"\\n\")\n",
    "        else:\n",
    "            f.write(\"[\"+row['Meeting']+\"](\"+row['URL']+\") | \"+row['Start Date']+\" | \"+row['End Date']+\"\\n\")\n",
    "    f.close()\n",
    "    return\n",
    "\n",
    "# Call the function with our filtered, sorted data frame:\n",
    "row_by_row_pandas_df_to_markdown_table(final_df)"
   ]
  },
  {
   "cell_type": "code",
   "execution_count": null,
   "metadata": {
    "scrolled": true
   },
   "outputs": [],
   "source": [
    "! wc -l EVENTS.md"
   ]
  },
  {
   "cell_type": "code",
   "execution_count": null,
   "metadata": {},
   "outputs": [],
   "source": [
    "! cat EVENTS.md"
   ]
  },
  {
   "cell_type": "markdown",
   "metadata": {},
   "source": [
    "Done! This file can now be deployed to the `CosmologyMeetings` website."
   ]
  }
 ],
 "metadata": {
  "kernelspec": {
   "display_name": "Python 2",
   "language": "python",
   "name": "python2"
  },
  "language_info": {
   "codemirror_mode": {
    "name": "ipython",
    "version": 2
   },
   "file_extension": ".py",
   "mimetype": "text/x-python",
   "name": "python",
   "nbconvert_exporter": "python",
   "pygments_lexer": "ipython2",
   "version": "2.7.12"
  }
 },
 "nbformat": 4,
 "nbformat_minor": 2
}
